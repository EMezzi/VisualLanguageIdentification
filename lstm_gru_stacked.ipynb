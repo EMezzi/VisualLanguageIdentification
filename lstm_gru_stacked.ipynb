{
  "nbformat": 4,
  "nbformat_minor": 0,
  "metadata": {
    "colab": {
      "name": "lstm_gru_combined.ipynb",
      "provenance": [],
      "collapsed_sections": []
    },
    "kernelspec": {
      "display_name": "Python 3",
      "name": "python3"
    },
    "language_info": {
      "name": "python"
    },
    "accelerator": "GPU"
  },
  "cells": [
    {
      "cell_type": "markdown",
      "metadata": {
        "id": "hiQAYgQxFQgN"
      },
      "source": [
        "# **Dataset non bilanciato (Italiano, inglese, spagnolo, tedesco, olandese, russo) con o senza giapponese**"
      ]
    },
    {
      "cell_type": "code",
      "metadata": {
        "id": "Ee70sdXksFSr",
        "colab": {
          "base_uri": "https://localhost:8080/"
        },
        "outputId": "a3facb9a-6a2d-44d6-f83e-40f8c57e101b"
      },
      "source": [
        "\"\"\"\n",
        "Qui abbiamo il montaggio del drive\n",
        "\"\"\"\n",
        "\n",
        "from google.colab import drive\n",
        "drive.mount(\"/content/drive\")"
      ],
      "execution_count": null,
      "outputs": [
        {
          "output_type": "stream",
          "text": [
            "Mounted at /content/drive\n"
          ],
          "name": "stdout"
        }
      ]
    },
    {
      "cell_type": "code",
      "metadata": {
        "id": "uw5AzBppH4PJ"
      },
      "source": [
        "\"\"\"\n",
        "Qui abbiamo l'operazione di caricamento dal drive dei dati da 12 landmark\n",
        "\"\"\"\n",
        "\n",
        "import dill \n",
        "\n",
        "x_test_12_0 = dill.load(open(\"/content/drive/MyDrive/Land_12/unbalanced/x_test_12_0\", \"rb\"))\n",
        "y_test_12 = dill.load(open(\"/content/drive/MyDrive/Land_12/unbalanced/y_test_12\", \"rb\"))\n",
        "\n",
        "x_train_12_0 = dill.load(open(\"/content/drive/MyDrive/Land_12/unbalanced/x_train_12_0\", \"rb\"))\n",
        "y_train_12 = dill.load(open(\"/content/drive/MyDrive/Land_12/unbalanced/y_train_12\", \"rb\"))"
      ],
      "execution_count": null,
      "outputs": []
    },
    {
      "cell_type": "code",
      "metadata": {
        "id": "BW_MDPT6-ESc"
      },
      "source": [
        "\"\"\"\n",
        "Qui abbiamo l'operazione di caricamento dal drive dei dati da 8 landmark\n",
        "\"\"\"\n",
        "\n",
        "import dill \n",
        "\n",
        "x_test_8_0 = dill.load(open(\"/content/drive/MyDrive/Land_8/unbalanced_7_languages/x_test_8_0\", \"rb\"))\n",
        "y_test_8 = dill.load(open(\"/content/drive/MyDrive/Land_8/unbalanced_7_languages/y_test_8\", \"rb\"))\n",
        "\n",
        "x_train_8_0 = dill.load(open(\"/content/drive/MyDrive/Land_8/unbalanced_7_languages/x_train_8_0\", \"rb\"))\n",
        "y_train_8 = dill.load(open(\"/content/drive/MyDrive/Land_8/unbalanced_7_languages/y_train_8\", \"rb\"))"
      ],
      "execution_count": null,
      "outputs": []
    },
    {
      "cell_type": "code",
      "metadata": {
        "colab": {
          "base_uri": "https://localhost:8080/"
        },
        "id": "dK7uI0B0BX3D",
        "outputId": "2c7a2a40-7302-4134-91a3-c0a971bb1988"
      },
      "source": [
        "x_train_8_0.shape"
      ],
      "execution_count": null,
      "outputs": [
        {
          "output_type": "execute_result",
          "data": {
            "text/plain": [
              "(709, 330, 28)"
            ]
          },
          "metadata": {
            "tags": []
          },
          "execution_count": 29
        }
      ]
    },
    {
      "cell_type": "code",
      "metadata": {
        "colab": {
          "base_uri": "https://localhost:8080/"
        },
        "id": "0Ior9ietmVHc",
        "outputId": "8ed50c9f-2034-4f9c-b5a7-9cb4eaf36c3c"
      },
      "source": [
        "x_test_8_0.shape"
      ],
      "execution_count": null,
      "outputs": [
        {
          "output_type": "execute_result",
          "data": {
            "text/plain": [
              "(37, 330, 28)"
            ]
          },
          "metadata": {
            "tags": []
          },
          "execution_count": 5
        }
      ]
    },
    {
      "cell_type": "markdown",
      "metadata": {
        "id": "KzM8dvqtdgFf"
      },
      "source": [
        "# **Rete neurale monodirezionale con GRU e LSTM alternati**"
      ]
    },
    {
      "cell_type": "code",
      "metadata": {
        "id": "zDV7zv-xvE-c"
      },
      "source": [
        "import tensorflow as tf\n",
        "\n",
        "from tensorflow.keras.models import Sequential\n",
        "from tensorflow.keras.layers import Dense, LSTM, GRU\n",
        "from tensorflow.keras.callbacks import ModelCheckpoint\n",
        "from tensorflow.keras import regularizers\n",
        "\n",
        "path = \"/content/drive/MyDrive/uni_unbalanced_best_8_7\"\n",
        "callback_check = ModelCheckpoint(path, monitor=\"val_accuracy\", \n",
        "                                 save_best_only=True)\n",
        "callbacks = [callback_check]\n",
        "\n",
        "model = Sequential()\n",
        "\n",
        "model.add(LSTM(128, input_shape=(x_train_8_0.shape[1:]), \n",
        "                return_sequences=True, \n",
        "                bias_initializer=\"glorot_uniform\"))\n",
        "model.add(GRU(128, return_sequences=True, activity_regularizer=regularizers.l2(1e-5)))\n",
        "model.add(LSTM(128, return_sequences=True, dropout=0.1))\n",
        "model.add(GRU(128, return_sequences=True, activity_regularizer=regularizers.l2(1e-5)))\n",
        "model.add(LSTM(128, return_sequences=True, dropout=0.1))\n",
        "model.add(GRU(128, return_sequences=True, activity_regularizer=regularizers.l2(1e-5)))\n",
        "model.add(LSTM(128, return_sequences=True, dropout=0.1))\n",
        "model.add(GRU(128, return_sequences=True, activity_regularizer=regularizers.l2(1e-5)))\n",
        "model.add(LSTM(128, return_sequences=True, dropout=0.1))\n",
        "model.add(GRU(128, return_sequences=True, activity_regularizer=regularizers.l2(1e-5)))\n",
        "model.add(LSTM(128, return_sequences=True, dropout=0.1))\n",
        "model.add(GRU(128, return_sequences=True, activity_regularizer=regularizers.l2(1e-5)))\n",
        "model.add(LSTM(128))\n",
        "\n",
        "model.add(Dense(32, bias_initializer=\"glorot_uniform\"))\n",
        "model.add(Dense(7, activation=\"softmax\"))\n",
        "\n",
        "opt = tf.keras.optimizers.Adamax(0.0002)\n",
        "model.compile(loss=\"sparse_categorical_crossentropy\", optimizer=opt,\n",
        "              metrics=[\"accuracy\"])\n",
        "\n",
        "model.fit(x_train_8_0, y_train_8, batch_size=64, shuffle=True, epochs=400, \n",
        "          callbacks=callbacks, validation_data=(x_test_8_0, y_test_8))"
      ],
      "execution_count": null,
      "outputs": []
    },
    {
      "cell_type": "markdown",
      "metadata": {
        "id": "ksBIwdRMjBJI"
      },
      "source": [
        "# **Predizioni e analisi dei risultati**"
      ]
    },
    {
      "cell_type": "code",
      "metadata": {
        "id": "B3F-GzXnx5CF"
      },
      "source": [
        "from tensorflow.keras import models\n",
        "\n",
        "model_one = models.load_model(\"/content/drive/MyDrive/uni_unbalanced_best_8_7\")"
      ],
      "execution_count": null,
      "outputs": []
    },
    {
      "cell_type": "code",
      "metadata": {
        "id": "S6OcV-RK02tj"
      },
      "source": [
        "label = [\"italiano\", \"inglese\", \"tedesco\", \"spagnolo\", \"olandese\", \"russo\", \n",
        "         \"giapponese\"]"
      ],
      "execution_count": null,
      "outputs": []
    },
    {
      "cell_type": "code",
      "metadata": {
        "colab": {
          "base_uri": "https://localhost:8080/"
        },
        "id": "9XMle7aPEKlj",
        "outputId": "d30a8ea8-2112-4497-fce3-21f088777153"
      },
      "source": [
        "model_one.evaluate(x_test_8_0, y_test_8)"
      ],
      "execution_count": null,
      "outputs": [
        {
          "output_type": "stream",
          "text": [
            "2/2 [==============================] - 3s 109ms/step - loss: 2.9093 - accuracy: 0.6216\n"
          ],
          "name": "stdout"
        },
        {
          "output_type": "execute_result",
          "data": {
            "text/plain": [
              "[2.909278631210327, 0.6216216087341309]"
            ]
          },
          "metadata": {
            "tags": []
          },
          "execution_count": 25
        }
      ]
    },
    {
      "cell_type": "code",
      "metadata": {
        "id": "0d0YXsE9i2y8"
      },
      "source": [
        "import numpy as np\n",
        "predictions = model_one.predict(x_test_8_0)\n",
        "max_predictions = []\n",
        "\n",
        "corrette_lingua = {\"italiano\": 0, \"inglese\": 0, \"tedesco\": 0, \"spagnolo\": 0, \n",
        "        \"olandese\": 0, \"russo\": 0, \"giapponese\": 0}\n",
        "totali_lingua = {\"italiano\": 0, \"inglese\": 0, \"tedesco\": 0, \"spagnolo\": 0, \n",
        "        \"olandese\": 0, \"russo\": 0, \"giapponese\": 0}\n",
        "for p in predictions: \n",
        "  max_predictions.append(max(p))\n",
        "\n",
        "total = 0\n",
        "correct = 0\n",
        "for (i, p) in enumerate(predictions): \n",
        "  print(\"Predizione massima\", max_predictions[i], \n",
        "        \"Lingua: \", label[np.argmax(predictions[i])], \n",
        "        \"Lingua corretta: \", label[y_test_8[i]] + \"\\n\")\n",
        "  \n",
        "  valore = totali_lingua.get(label[np.argmax(predictions[i])])\n",
        "  valore += 1\n",
        "  totali_lingua[label[np.argmax(predictions[i])]] = valore\n",
        "\n",
        "  if (label[y_test_8[i]] == label[np.argmax(predictions[i])]): \n",
        "    valore1 = corrette_lingua.get(label[y_test_8[i]])\n",
        "    valore1 += 1\n",
        "    corrette_lingua[label[y_test_8[i]]] = valore1\n",
        "  \n",
        "print(\"Corrette per linguae: \", corrette_lingua)\n",
        "print(\"Totali per lingua: \", totali_lingua)\n"
      ],
      "execution_count": null,
      "outputs": []
    }
  ]
}